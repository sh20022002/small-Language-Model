{
 "cells": [
  {
   "cell_type": "code",
   "execution_count": null,
   "id": "552f31e0",
   "metadata": {
    "vscode": {
     "languageId": "plaintext"
    }
   },
   "outputs": [],
   "source": [
    "# deps\n",
    "%pip install -q datasets\n",
    "\n",
    "# make sure Python can import your package\n",
    "import sys\n",
    "sys.path.insert(0, \"/content/slm/src\")  # adjust to your clone path\n",
    "\n",
    "# import the orchestrator\n",
    "from multi_train_orchestrator import train_all_datasets, StageConfig\n",
    "\n",
    "# run all stages with defaults\n",
    "train_all_datasets(\n",
    "    stages=(\n",
    "        StageConfig(\"tinystories\", 1),\n",
    "        StageConfig(\"wikitext\", 1),\n",
    "        StageConfig(\"openwebtext\", 1),\n",
    "        StageConfig(\"alpaca\", 1),\n",
    "    ),\n",
    "    tokenizer_path=\"/content/slm/src/my_slm/data/tokenizer_state.pkl.gz\",  # load if exists, else build+save\n",
    "    max_len=256,\n",
    "    batch_size=32,\n",
    "    train_items=50_000,   # cap per stage for Colab; increase if you have time\n",
    "    val_items=2_000,\n",
    "    dim=256, heads=8, depth=6,\n",
    "    lr=3e-4, weight_decay=0.01,\n",
    "    save_dir=\"/content/slm/out\",\n",
    ")\n"
   ]
  }
 ],
 "metadata": {
  "language_info": {
   "name": "python"
  }
 },
 "nbformat": 4,
 "nbformat_minor": 5
}
