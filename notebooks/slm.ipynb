{
  "cells": [
    {
      "cell_type": "markdown",
      "metadata": {
        "id": "view-in-github",
        "colab_type": "text"
      },
      "source": [
        "<a href=\"https://colab.research.google.com/github/sh20022002/small-Language-Model/blob/main/notebooks/slm.ipynb\" target=\"_parent\"><img src=\"https://colab.research.google.com/assets/colab-badge.svg\" alt=\"Open In Colab\"/></a>"
      ]
    },
    {
      "cell_type": "code",
      "execution_count": 17,
      "metadata": {
        "colab": {
          "base_uri": "https://localhost:8080/"
        },
        "id": "XXcre7am-1qF",
        "outputId": "2159ad80-c81f-4ed9-c198-715af701534e"
      },
      "outputs": [
        {
          "output_type": "stream",
          "name": "stdout",
          "text": [
            "  Preparing metadata (setup.py) ... \u001b[?25l\u001b[?25hdone\n"
          ]
        }
      ],
      "source": [
        "%pip install -q \"git+https://github.com/sh20022002/small-Language-Model.git@main\"           # uses setup.py / pyproject at repo ROOT\n",
        "\n",
        "\n",
        "import os, pathlib\n",
        "\n",
        "# 1) Pick the actual clone dir you used\n",
        "REPO = \"/content/slm\"  # change to your real clone path\n",
        "\n",
        "# 2) Confirm the file exists (and discover the exact name/path)\n",
        "!find /content -maxdepth 4 -iname \"tokenizer*.pkl.gz\" -print\n",
        "\n",
        "# 3) Set the path to what you actually have (example filename below)\n",
        "tok_path = f\"{REPO}/src/my_slm/data/tokenizer_state.pkl.gz\"\n"
      ]
    },
    {
      "cell_type": "markdown",
      "metadata": {
        "id": "0wtsZleANP6o"
      },
      "source": []
    },
    {
      "cell_type": "code",
      "execution_count": 18,
      "metadata": {
        "id": "4XQ6zz2M_rqQ"
      },
      "outputs": [],
      "source": [
        "from datasets import load_dataset\n",
        "\n",
        "from functools import partial\n",
        "\n",
        "from torch.optim import AdamW\n",
        "from torch.nn.utils.rnn import pad_sequence\n",
        "\n",
        "from my_slm.hybrid_tokeniztion import HybridTokenizer\n",
        "from my_slm.transformer import Transformer\n",
        "from my_slm.train import train_model\n",
        "import torch\n",
        "\n",
        "from sklearn.model_selection import train_test_split\n",
        "from torch.utils.data import DataLoader, Dataset\n",
        "\n",
        "\n",
        "dataset = load_dataset(\"tatsu-lab/alpaca\")\n"
      ]
    },
    {
      "cell_type": "code",
      "execution_count": 19,
      "metadata": {
        "id": "fi-rkooXDUEF"
      },
      "outputs": [],
      "source": [
        "device = torch.device('cuda' if torch.cuda.is_available() else 'cpu')"
      ]
    },
    {
      "cell_type": "code",
      "execution_count": 20,
      "metadata": {
        "id": "kiaSCS4gGc4L",
        "colab": {
          "base_uri": "https://localhost:8080/"
        },
        "outputId": "df7541ef-17fb-4973-b828-d64d3c26b1c8"
      },
      "outputs": [
        {
          "output_type": "stream",
          "name": "stdout",
          "text": [
            "Loading from: /usr/local/lib/python3.12/dist-packages/my_slm/data/tokenizer_state.pkl.gz\n"
          ]
        }
      ],
      "source": [
        "import os, my_slm\n",
        "\n",
        "\n",
        "tok_path = os.path.join(os.path.dirname(my_slm.__file__),\n",
        "                        \"data\", \"tokenizer_state.pkl.gz\")\n",
        "print(\"Loading from:\", tok_path)   # sanity\n",
        "tok = HybridTokenizer.load(tok_path)\n"
      ]
    },
    {
      "cell_type": "code",
      "source": [],
      "metadata": {
        "id": "r_CPS6767ceB"
      },
      "execution_count": 20,
      "outputs": []
    },
    {
      "cell_type": "code",
      "execution_count": 21,
      "metadata": {
        "id": "ZoMdwJUccdt_"
      },
      "outputs": [],
      "source": [
        "dataset = dataset['train']"
      ]
    },
    {
      "cell_type": "code",
      "execution_count": 22,
      "metadata": {
        "colab": {
          "base_uri": "https://localhost:8080/"
        },
        "id": "RaZ0rUG5rrlN",
        "outputId": "c3af7d82-3139-40a0-c5df-b971e406be9b"
      },
      "outputs": [
        {
          "output_type": "execute_result",
          "data": {
            "text/plain": [
              "{'instruction': 'Describe the character of Romeo from Romeo and Juliet.',\n",
              " 'input': '',\n",
              " 'output': 'Romeo is a tragic hero with a passionate heart. He is brave and impulsive, often making decisions without fully thinking them through. He is deeply romantic and has a heartbreaking loyalty to his family and his beloved, Juliet.',\n",
              " 'text': 'Below is an instruction that describes a task. Write a response that appropriately completes the request.\\n\\n### Instruction:\\nDescribe the character of Romeo from Romeo and Juliet.\\n\\n### Response:\\nRomeo is a tragic hero with a passionate heart. He is brave and impulsive, often making decisions without fully thinking them through. He is deeply romantic and has a heartbreaking loyalty to his family and his beloved, Juliet.'}"
            ]
          },
          "metadata": {},
          "execution_count": 22
        }
      ],
      "source": [
        "dataset[500]"
      ]
    },
    {
      "cell_type": "code",
      "execution_count": 23,
      "metadata": {
        "id": "WaYmMdONbauq"
      },
      "outputs": [],
      "source": [
        "\n",
        "class QADataset(Dataset):\n",
        "    def __init__(self, data, tokenizer, max_length=256):\n",
        "        self.data = data\n",
        "        self.tokenizer = tokenizer\n",
        "        self.max_length = max_length\n",
        "\n",
        "    def __len__(self):\n",
        "        return len(self.data)\n",
        "\n",
        "    def __getitem__(self, idx):\n",
        "        item = self.data[idx]\n",
        "\n",
        "        # Prepare raw text\n",
        "        prompt = f\"Q: {item['instruction']}\\nA:\"\n",
        "        target = item['output']\n",
        "\n",
        "        # Encode input and target using your tokenizer\n",
        "        input_ids = self.tokenizer.encode(prompt, mode=\"flat\")[:self.max_length]\n",
        "        label_ids = self.tokenizer.encode(target, mode=\"flat\")[:self.max_length]\n",
        "\n",
        "        # Convert to tensors\n",
        "        input_tensor = torch.tensor(input_ids, dtype=torch.long)\n",
        "        label_tensor = torch.tensor(label_ids, dtype=torch.long)\n",
        "\n",
        "        return {\n",
        "            \"input_ids\": input_tensor,\n",
        "            \"labels\": label_tensor\n",
        "        }\n",
        "\n",
        "\n",
        "\n",
        "def collate_fn(batch, pad_id=0, ignore_index=-100):\n",
        "    # 1) pad to [B, T]\n",
        "    ids = [b[\"input_ids\"] for b in batch]                                  # each [T]\n",
        "    ids = pad_sequence(ids, batch_first=True, padding_value=pad_id)        # [B, T]\n",
        "\n",
        "    # 2) build attention mask from padded ids\n",
        "    attn = (ids != pad_id).long()                                          # [B, T]\n",
        "\n",
        "    # 3) labels align 1:1 with ids; ignore pads for loss\n",
        "    labels = ids.clone()\n",
        "    labels[ids == pad_id] = ignore_index                                   # [B, T]\n",
        "\n",
        "    return {\"input_ids\": ids, \"attention_mask\": attn, \"labels\": labels}\n",
        "\n",
        "\n"
      ]
    },
    {
      "cell_type": "code",
      "execution_count": 24,
      "metadata": {
        "id": "f740bab7"
      },
      "outputs": [],
      "source": [
        "# Split the dataset using the datasets library's built-in method\n",
        "split_dataset = dataset.train_test_split(test_size=0.1, seed=42)\n",
        "\n",
        "# Access the splits\n",
        "train_data_list = split_dataset['train']\n",
        "val_data_list = split_dataset['test'] # The split method names the validation split 'test' by default\n",
        "\n",
        "# Create QADataset instances from the split data\n",
        "train_dataset = QADataset(train_data_list, tok)\n",
        "val_dataset = QADataset(val_data_list, tok)\n",
        "\n"
      ]
    },
    {
      "cell_type": "code",
      "execution_count": 25,
      "metadata": {
        "id": "7rFCmGVhNP6q"
      },
      "outputs": [],
      "source": [
        "\n",
        "\n",
        "model = Transformer(\n",
        "    vocab_size=len(tok.token2id),\n",
        "    dim=512,\n",
        "    depth=6,\n",
        "    heads=8,\n",
        "    mlp_dim=2048,\n",
        "    window=256\n",
        ")\n"
      ]
    },
    {
      "cell_type": "code",
      "execution_count": 26,
      "metadata": {
        "id": "JgzAwk5zNP6q"
      },
      "outputs": [],
      "source": [
        "\n",
        "pad_id = tok.token2id[\"<PAD>\"]      # numeric id (likely 0\n",
        "\n",
        "# after you finish adding data to tokenizer and freeze it:\n",
        "vocab = tok.vocab_size\n",
        "\n",
        "BATCH = 8\n"
      ]
    },
    {
      "cell_type": "code",
      "execution_count": 27,
      "metadata": {
        "id": "_iz1kBN0NP6q"
      },
      "outputs": [],
      "source": [
        "\n",
        "\n",
        "train_loader = DataLoader(\n",
        "    train_dataset,\n",
        "    batch_size=BATCH,\n",
        "    shuffle=True,\n",
        "    collate_fn=partial(collate_fn, pad_id=pad_id, ignore_index=pad_id),\n",
        ")\n",
        "val_loader = DataLoader(\n",
        "    val_dataset,\n",
        "    batch_size=BATCH,\n",
        "    shuffle=False,\n",
        "    collate_fn=partial(collate_fn, pad_id=pad_id, ignore_index=pad_id),\n",
        ")\n",
        "\n",
        "model.resize_token_embeddings(tok.vocab_size)\n",
        "\n",
        "assert model.token_emb.num_embeddings == vocab\n",
        "assert model.to_logits.out_features   == vocab\n",
        "\n",
        "model.to(device)\n",
        "optimizer = torch.optim.AdamW(model.parameters(), lr=3e-4)\n"
      ]
    },
    {
      "cell_type": "code",
      "execution_count": 28,
      "metadata": {
        "colab": {
          "base_uri": "https://localhost:8080/",
          "height": 511
        },
        "id": "DWaddWKyNP6q",
        "outputId": "737603e6-6485-466c-b255-83bc2165e403"
      },
      "outputs": [
        {
          "output_type": "stream",
          "name": "stdout",
          "text": [
            "started Training...\n",
            "Epoch 1/5 - Train Loss: 8.0560, Val Loss: 7.4371, Acc: 99.13%\n",
            "Epoch 2/5 - Train Loss: 6.8637, Val Loss: 6.2980, Acc: 99.69%\n",
            "Epoch 3/5 - Train Loss: 5.7382, Val Loss: 5.1904, Acc: 99.87%\n",
            "Epoch 4/5 - Train Loss: 4.6560, Val Loss: 4.1431, Acc: 99.94%\n",
            "Epoch 5/5 - Train Loss: 3.6638, Val Loss: 3.2174, Acc: 99.96%\n"
          ]
        },
        {
          "output_type": "display_data",
          "data": {
            "text/plain": [
              "<Figure size 600x400 with 1 Axes>"
            ],
            "image/png": "[encoded data removed]"
          },
          "metadata": {}
        }
      ],
      "source": [
        "\n",
        "# IMPORTANT: pass the SAME ignore_index to the trainer\n",
        "model = train_model(model, train_loader, val_loader, optimizer, device, epochs=5, ignore_index=pad_id)\n"
      ]
    },
    {
      "cell_type": "code",
      "source": [
        "q = \"capital of france\"\n",
        "e_q = tok.encode(q, mode=\"flat\")\n",
        "i_tensor = torch.tensor(e_q, dtype=torch.long)\n",
        "eos_id = tok.token2id.get(\"<EOS>\")\n",
        "\n",
        "out = model.generate(i_tensor.unsqueeze(0).to(device), max_new_tokens=50, eos_token_id=eos_id)\n",
        "print(tok.decode(out[0].tolist()))"
      ],
      "metadata": {
        "colab": {
          "base_uri": "https://localhost:8080/"
        },
        "id": "fbr3RMZl7ens",
        "outputId": "323f2fb9-1c04-4585-e0d6-f167ee55e3c6"
      },
      "execution_count": 29,
      "outputs": [
        {
          "output_type": "stream",
          "name": "stdout",
          "text": [
            "capital of franceWWWWWWWWWWWWWWWWWWWWWWWWWWWWWWWWWWWWWWWWWWWWWWWWWW\n"
          ]
        }
      ]
    },
    {
      "cell_type": "markdown",
      "metadata": {
        "id": "88e756be"
      },
      "source": [
        "The `TypeError` in the `train_test_split` function arises because `sklearn`'s `train_test_split` is not designed to directly handle custom PyTorch `Dataset` objects. To resolve this, we will first split the underlying data (the list of dictionaries) into training and validation sets using `train_test_split`, and then create `QADataset` instances for each split."
      ]
    }
  ],
  "metadata": {
    "accelerator": "GPU",
    "colab": {
      "gpuType": "T4",
      "provenance": [],
      "include_colab_link": true
    },
    "kernelspec": {
      "display_name": "Python 3",
      "name": "python3"
    },
    "language_info": {
      "name": "python"
    }
  },
  "nbformat": 4,
  "nbformat_minor": 0
}