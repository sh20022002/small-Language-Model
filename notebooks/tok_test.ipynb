{
 "cells": [
  {
   "cell_type": "code",
   "execution_count": 1,
   "id": "c24daa9f",
   "metadata": {},
   "outputs": [],
   "source": [
    "\n",
    "import sys, pathlib\n",
    "\n",
    "repo_root = pathlib.Path.cwd().resolve().parent        # parent of \"notebooks/\"\n",
    "src_path  = repo_root / \"src\"\n",
    "assert (src_path / \"my_slm\").exists(), f\"Couldn't find {src_path/'my_slm'} — adjust the path.\"\n",
    "\n",
    "sys.path.insert(0, str(src_path))                      # make `src/` importable\n",
    "\n",
    "# now import from your package (note the filename spelling!)\n",
    "from my_slm.hybrid_tokeniztion import HybridTokenizer"
   ]
  },
  {
   "cell_type": "code",
   "execution_count": 2,
   "id": "689952a0",
   "metadata": {},
   "outputs": [],
   "source": [
    "tok = HybridTokenizer.load(\"../src/my_slm/data/tokenizer_state.pkl.gz\")"
   ]
  },
  {
   "cell_type": "code",
   "execution_count": 3,
   "id": "016725f6",
   "metadata": {},
   "outputs": [
    {
     "name": "stdout",
     "output_type": "stream",
     "text": [
      "[643, 473, 2379, 7, 338, 7127, 7, 8901, 7, 9, 7, 6748, 10510]\n"
     ]
    }
   ],
   "source": [
    "a = tok.encode('men', mode='flat')\n",
    "b = tok.encode('the Women', mode='flat')\n",
    "c =tok.encode('queen clown ot the car', mode='flat')\n",
    "print(c)\n",
    "# print(tok.db_status())"
   ]
  },
  {
   "cell_type": "code",
   "execution_count": null,
   "id": "c4b06a50",
   "metadata": {},
   "outputs": [],
   "source": []
  }
 ],
 "metadata": {
  "kernelspec": {
   "display_name": "Python 3",
   "language": "python",
   "name": "python3"
  },
  "language_info": {
   "codemirror_mode": {
    "name": "ipython",
    "version": 3
   },
   "file_extension": ".py",
   "mimetype": "text/x-python",
   "name": "python",
   "nbconvert_exporter": "python",
   "pygments_lexer": "ipython3",
   "version": "3.10.0"
  }
 },
 "nbformat": 4,
 "nbformat_minor": 5
}
