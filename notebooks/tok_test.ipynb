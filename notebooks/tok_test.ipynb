{
 "cells": [
  {
   "cell_type": "code",
   "execution_count": 1,
   "id": "d6645fbc",
   "metadata": {},
   "outputs": [
    {
     "name": "stdout",
     "output_type": "stream",
     "text": [
      "torch: 2.5.1+cu121\n",
      "built with CUDA: 12.1\n",
      "cuda available: True\n"
     ]
    }
   ],
   "source": [
    "import torch\n",
    "print(\"torch:\", torch.__version__)\n",
    "print(\"built with CUDA:\", torch.version.cuda)   # אם None => זו גרסת CPU בלבד\n",
    "print(\"cuda available:\", torch.cuda.is_available())\n"
   ]
  },
  {
   "cell_type": "code",
   "execution_count": 2,
   "id": "641125e1",
   "metadata": {},
   "outputs": [],
   "source": [
    "device = torch.device('cuda' if torch.cuda.is_available() else 'cpu')"
   ]
  },
  {
   "cell_type": "code",
   "execution_count": 3,
   "id": "c24daa9f",
   "metadata": {},
   "outputs": [],
   "source": [
    "\n",
    "import sys, pathlib\n",
    "\n",
    "repo_root = pathlib.Path.cwd().resolve().parent        # parent of \"notebooks/\"\n",
    "src_path  = repo_root / \"src\"\n",
    "assert (src_path / \"my_slm\").exists(), f\"Couldn't find {src_path/'my_slm'} — adjust the path.\"\n",
    "\n",
    "sys.path.insert(0, str(src_path))                      # make `src/` importable\n",
    "\n",
    "# now import from your package (note the filename spelling!)\n",
    "from my_slm.hybrid_tokeniztion import HybridTokenizer"
   ]
  },
  {
   "cell_type": "code",
   "execution_count": 4,
   "id": "689952a0",
   "metadata": {},
   "outputs": [],
   "source": [
    "tok = HybridTokenizer.load(\"../src/my_slm/data/tokenizer_state.pkl.gz\")"
   ]
  },
  {
   "cell_type": "code",
   "execution_count": null,
   "id": "016725f6",
   "metadata": {},
   "outputs": [
    {
     "name": "stdout",
     "output_type": "stream",
     "text": [
      "[212] [643, 473, 2379] [317] [6009, 317]\n"
     ]
    },
    {
     "ename": "TypeError",
     "evalue": "HybridTokenizer.decode() missing 1 required positional argument: 'seq'",
     "output_type": "error",
     "traceback": [
      "\u001b[1;31m---------------------------------------------------------------------------\u001b[0m",
      "\u001b[1;31mTypeError\u001b[0m                                 Traceback (most recent call last)",
      "Cell \u001b[1;32mIn[5], line 6\u001b[0m\n\u001b[0;32m      4\u001b[0m w \u001b[38;5;241m=\u001b[39mtok\u001b[38;5;241m.\u001b[39mencode(\u001b[38;5;124m'\u001b[39m\u001b[38;5;124mwoman\u001b[39m\u001b[38;5;124m'\u001b[39m, mode\u001b[38;5;241m=\u001b[39m\u001b[38;5;124m'\u001b[39m\u001b[38;5;124mflat\u001b[39m\u001b[38;5;124m'\u001b[39m)\n\u001b[0;32m      5\u001b[0m \u001b[38;5;28mprint\u001b[39m(a,b,m,w)\n\u001b[1;32m----> 6\u001b[0m \u001b[38;5;28mprint\u001b[39m(\u001b[43mtok\u001b[49m\u001b[38;5;241;43m.\u001b[39;49m\u001b[43mdecode\u001b[49m\u001b[43m(\u001b[49m\u001b[43m)\u001b[49m)\n\u001b[0;32m      7\u001b[0m \u001b[38;5;66;03m# print(tok.db_status())\u001b[39;00m\n",
      "\u001b[1;31mTypeError\u001b[0m: HybridTokenizer.decode() missing 1 required positional argument: 'seq'"
     ]
    }
   ],
   "source": [
    "a = tok.encode('king', mode='flat')\n",
    "b = tok.encode('queen', mode='flat')\n",
    "m =tok.encode('man', mode='flat')\n",
    "w =tok.encode('woman', mode='flat')\n",
    "print(a,b,m,w)\n",
    "# print(tok.decode())\n",
    "# print(tok.db_status())"
   ]
  },
  {
   "cell_type": "code",
   "execution_count": null,
   "id": "f90232d0",
   "metadata": {},
   "outputs": [],
   "source": []
  },
  {
   "cell_type": "code",
   "execution_count": null,
   "id": "c4b06a50",
   "metadata": {},
   "outputs": [],
   "source": []
  }
 ],
 "metadata": {
  "kernelspec": {
   "display_name": "Python 3",
   "language": "python",
   "name": "python3"
  },
  "language_info": {
   "codemirror_mode": {
    "name": "ipython",
    "version": 3
   },
   "file_extension": ".py",
   "mimetype": "text/x-python",
   "name": "python",
   "nbconvert_exporter": "python",
   "pygments_lexer": "ipython3",
   "version": "3.10.0"
  }
 },
 "nbformat": 4,
 "nbformat_minor": 5
}
