{
 "cells": [
  {
   "cell_type": "code",
   "execution_count": 47,
   "id": "c24daa9f",
   "metadata": {},
   "outputs": [],
   "source": [
    "from tokonazation import HybridTokenizer"
   ]
  },
  {
   "cell_type": "code",
   "execution_count": 48,
   "id": "689952a0",
   "metadata": {},
   "outputs": [],
   "source": [
    "tok = HybridTokenizer.load('tokenizer_state.pkl.gz')"
   ]
  },
  {
   "cell_type": "code",
   "execution_count": 49,
   "id": "016725f6",
   "metadata": {},
   "outputs": [
    {
     "name": "stdout",
     "output_type": "stream",
     "text": [
      "[(643, 1), (473, 1), (2379, 1)]\n",
      "=== HybridTokenizer DB status ===\n",
      "• Unique word types collected : 419,344\n",
      "• Total word occurrences       : 30,325,324\n",
      "• Candidate bases (≤4 bytes) : 40,782  [cover 55.7% of corpus]\n",
      "• Special tokens reserved      : 9\n",
      "• Current token2id size        : 10532 (includes specials + any byte_* added so far)\n",
      "• Frozen?                      : True\n",
      "• Preview of top 10 base candidates:\n",
      "   the         freq=2056703\n",
      "   of          freq=961637\n",
      "   in          freq=951424\n",
      "   and         freq=765674\n",
      "   a           freq=697413\n",
      "   is          freq=571168\n",
      "   to          freq=508248\n",
      "   was         freq=452967\n",
      "   it          freq=276510\n",
      "   he          freq=264899\n",
      "\n",
      "  < 90 % of corpus occurrences fit base-token criterion.\n",
      "   Consider raising byte_limit or adding more data before freezing.\n",
      "None\n"
     ]
    }
   ],
   "source": [
    "a = tok.encode('men')\n",
    "b = tok.encode('the Women')\n",
    "c =tok.encode('queen')\n",
    "print( c)\n",
    "print(tok.db_status())"
   ]
  },
  {
   "cell_type": "code",
   "execution_count": null,
   "id": "c4b06a50",
   "metadata": {},
   "outputs": [],
   "source": []
  }
 ],
 "metadata": {
  "kernelspec": {
   "display_name": "Python 3",
   "language": "python",
   "name": "python3"
  },
  "language_info": {
   "codemirror_mode": {
    "name": "ipython",
    "version": 3
   },
   "file_extension": ".py",
   "mimetype": "text/x-python",
   "name": "python",
   "nbconvert_exporter": "python",
   "pygments_lexer": "ipython3",
   "version": "3.11.9"
  }
 },
 "nbformat": 4,
 "nbformat_minor": 5
}
