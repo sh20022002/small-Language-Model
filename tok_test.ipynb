{
 "cells": [
  {
   "cell_type": "code",
   "execution_count": 23,
   "id": "c24daa9f",
   "metadata": {},
   "outputs": [],
   "source": [
    "from tokonazation import HybridTokenizer"
   ]
  },
  {
   "cell_type": "code",
   "execution_count": 24,
   "id": "689952a0",
   "metadata": {},
   "outputs": [],
   "source": [
    "tok = HybridTokenizer.load('tokenizer_state.pkl.gz')"
   ]
  },
  {
   "cell_type": "code",
   "execution_count": 35,
   "id": "016725f6",
   "metadata": {},
   "outputs": [
    {
     "name": "stdout",
     "output_type": "stream",
     "text": [
      "[(357, 1)] [(202, 1)] [(643, 1), (473, 1), (2379, 1)]\n"
     ]
    }
   ],
   "source": [
    "a = tok.encode('men')\n",
    "b = tok.encode('women')\n",
    "c =tok.encode('queen')\n",
    "print(a, b, c)"
   ]
  },
  {
   "cell_type": "code",
   "execution_count": null,
   "id": "c4b06a50",
   "metadata": {},
   "outputs": [],
   "source": []
  }
 ],
 "metadata": {
  "kernelspec": {
   "display_name": "Python 3",
   "language": "python",
   "name": "python3"
  },
  "language_info": {
   "codemirror_mode": {
    "name": "ipython",
    "version": 3
   },
   "file_extension": ".py",
   "mimetype": "text/x-python",
   "name": "python",
   "nbconvert_exporter": "python",
   "pygments_lexer": "ipython3",
   "version": "3.11.9"
  }
 },
 "nbformat": 4,
 "nbformat_minor": 5
}
